{
 "cells": [
  {
   "cell_type": "markdown",
   "metadata": {},
   "source": [
    "# Week 1 class\n",
    "\n",
    "[![Open In Colab](https://colab.research.google.com/assets/colab-badge.svg)](https://colab.research.google.com/github/goodman-imperial/discrete-maths-classes/blob/main/week-1-class.ipynb)\n",
    "\n",
    "The aim of this class is to implement the Fibonacci algorithm using the following methods, and plot their timings (for $n=1$ to 100, except for the recursive algorithm where you should stop at $n=30$):\n",
    "\n",
    "* Recursive\n",
    "* Table\n",
    "* Keep last two values\n",
    "* Analytic (if you have time)\n",
    "* Matrix (if you have time)\n",
    "\n",
    "## Python\n",
    "\n",
    "You can use any language you like, but I'll use Python for all my code samples and during the class. I think Python is very simple syntactically so the code samples should be easy enough to follow even if you don't know Python. On the other hand, I would strongly encourage you to learn it as it's an incredibly useful language. Here is a nice tutorial on Python, NumPy (numerical library for efficient array computation) and Jupyter (the notebook interface I'm using here):\n",
    "\n",
    "* [Python Numpy Jupyter tutorial](https://cs231n.github.io/python-numpy-tutorial/)\n",
    "\n",
    "Here is a little sample of plotting timings for a function in Python."
   ]
  },
  {
   "cell_type": "code",
   "execution_count": 35,
   "metadata": {},
   "outputs": [
    {
     "data": {
      "image/png": "[encoded data removed]",
      "text/plain": [
       "<Figure size 640x480 with 1 Axes>"
      ]
     },
     "metadata": {},
     "output_type": "display_data"
    }
   ],
   "source": [
    "# this first line is just used to make the plots appear nicely in the notebook\n",
    "%matplotlib inline\n",
    "import matplotlib.pyplot as plt\n",
    "import numpy as np\n",
    "import time\n",
    "import math\n",
    "\n",
    "def fake_function(n):\n",
    "    time.sleep(0.001*n*n)\n",
    "\n",
    "def recursive_fib(n):\n",
    "    if n<=2:\n",
    "        return 1\n",
    "    else:\n",
    "        return recursive_fib(n-1) + recursive_fib(n-2)\n",
    "\n",
    "def fib_table(n):\n",
    "    if n == 0: \n",
    "        return [0]\n",
    "    elif n == 1:\n",
    "        return [0, 1]\n",
    "    \n",
    "    fib_list = [0, 1]\n",
    "    for i in range(2,n):\n",
    "        x = fib_list[i-1] + fib_list[i-2]\n",
    "        fib_list.append(x)\n",
    "    return list\n",
    "\n",
    "def fib_lasttwo(n):\n",
    "    a = b = 1\n",
    "    for i in range(3,n):\n",
    "        x = a+b\n",
    "        a = b\n",
    "        b = x \n",
    "    return b\n",
    "\n",
    "def fib_analytic(n):\n",
    "    phi = (1+math.sqrt(5))/2\n",
    "    x = (phi**n - (1-phi)**n)/math.sqrt(5)\n",
    "    return x\n",
    "\n",
    "def fib_matrix(n):\n",
    "    \n",
    "    \n",
    "def timeit(n):\n",
    "    start = time.time()\n",
    "  \n",
    "    fib_analytic(n)\n",
    "    end = time.time()\n",
    "    return end-start\n",
    "    \n",
    "N = list(range(1,100))\n",
    "T = [timeit(n) for n in N]\n",
    "plt.plot(N, T)\n",
    "plt.xlabel('n')\n",
    "plt.ylabel('Time (s)');"
   ]
  },
  {
   "cell_type": "markdown",
   "metadata": {},
   "source": [
    "## Implementation notes on compiled languages\n",
    "\n",
    "For the other ones, if you're using a compiled language, they might run so fast that in order to time them you should slow down the addition by adding a 1 microsecond wait. I've included a C++ ``busy_sleep`` function below to do that.\n",
    "\n",
    "```c++\n",
    "#include <chrono>\n",
    "#include <iostream>\n",
    "#include <fstream>\n",
    "\n",
    "using namespace std;\n",
    "\n",
    "// this function busy sleeps for n microseconds\n",
    "void busy_sleep(int n)\n",
    "{\n",
    "    auto start = chrono::steady_clock::now();\n",
    "    while(chrono::duration_cast<chrono::microseconds>(chrono::steady_clock::now() - start).count()<n) {};\n",
    "}\n",
    "```"
   ]
  }
 ],
 "metadata": {
  "colab": {
   "collapsed_sections": [],
   "name": "Discrete-maths-timing-template.ipynb",
   "provenance": []
  },
  "kernelspec": {
   "display_name": "Python 3 (ipykernel)",
   "language": "python",
   "name": "python3"
  },
  "language_info": {
   "codemirror_mode": {
    "name": "ipython",
    "version": 3
   },
   "file_extension": ".py",
   "mimetype": "text/x-python",
   "name": "python",
   "nbconvert_exporter": "python",
   "pygments_lexer": "ipython3",
   "version": "3.12.6"
  }
 },
 "nbformat": 4,
 "nbformat_minor": 4
}
